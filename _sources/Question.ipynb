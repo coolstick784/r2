{
 "cells": [
  {
   "cell_type": "markdown",
   "id": "81ec2580",
   "metadata": {},
   "source": [
    "\n",
    "\n",
    "# Follow-Up to question; was asked why there was an emphasis on numeric data versus integer data\n",
    "## Written by W. Elijah Clark"
   ]
  },
  {
   "cell_type": "markdown",
   "id": "59aaca8d",
   "metadata": {},
   "source": [
    "\n",
    "## View this page in Google Colab, where you can edit/run it!\n",
    "<img src=\"colab.gif\" width=\"500\" height=\"500\" margin-right = \"0px\">\n"
   ]
  },
  {
   "cell_type": "markdown",
   "id": "16354bff",
   "metadata": {},
   "source": [
    "First, this demonstrates storing a floating-point number numerically versus as a series of integers\n",
    "\n",
    "<br>\n",
    " X is numeric, y is integer based\n"
   ]
  },
  {
   "cell_type": "code",
   "execution_count": null,
   "id": "7f57eb57",
   "metadata": {},
   "outputs": [],
   "source": [
    "\n",
    "X <- c(3.45, 8.69, 4.20, 6.91, 7.73)\n",
    "Y <- c(3.45L, 8.69L, 4.20L, 6.91L, 7.73L)\n",
    "print(paste0(\"This is the type of value in X: \", class(X)))\n",
    "print(paste0(\"This is the type of value in Y: \", class(Y)))"
   ]
  },
  {
   "cell_type": "markdown",
   "id": "41c51453",
   "metadata": {},
   "source": [
    "<span style=\"font-size:1em;\">This will show you what y got stored as in practice; I got the following:</span>"
   ]
  },
  {
   "cell_type": "code",
   "execution_count": 19,
   "id": "e3022f85",
   "metadata": {
    "scrolled": true
   },
   "outputs": [
    {
     "name": "stdout",
     "output_type": "stream",
     "text": [
      "[1] 3.45 8.69 4.20 6.91 7.73\n"
     ]
    }
   ],
   "source": [
    "print(Y)"
   ]
  },
  {
   "cell_type": "code",
   "execution_count": 20,
   "id": "2a7e0e90",
   "metadata": {},
   "outputs": [
    {
     "name": "stdout",
     "output_type": "stream",
     "text": [
      "[1] \"numeric\"\n"
     ]
    }
   ],
   "source": [
    "print(class(Y)) # this prints the class of Y"
   ]
  },
  {
   "cell_type": "markdown",
   "id": "f4dc460a",
   "metadata": {},
   "source": [
    "<span style=\"font-size:1em;\">We CAN, however, brute-force assign a numeric vector as an integer variable...but it will round!</span>\n",
    "<br>\n",
    "<span style=\"font-size:1em;\">\n",
    "Below is how I did that, as well as printing the rounded vector </span>"
   ]
  },
  {
   "cell_type": "code",
   "execution_count": 21,
   "id": "741d2be4",
   "metadata": {},
   "outputs": [
    {
     "name": "stdout",
     "output_type": "stream",
     "text": [
      "[1] 3 8 4 6 7\n"
     ]
    }
   ],
   "source": [
    "Ecks = as.integer(X)\n",
    "print(Ecks)"
   ]
  },
  {
   "cell_type": "markdown",
   "id": "5739f6f6",
   "metadata": {},
   "source": [
    "<span style=\"font-size:1em;\">Incidentally, these will result in different means, so that may have consequences for analysis.</span>"
   ]
  },
  {
   "cell_type": "code",
   "execution_count": 22,
   "id": "c91cc52c",
   "metadata": {},
   "outputs": [
    {
     "name": "stdout",
     "output_type": "stream",
     "text": [
      "[1] 6.196\n"
     ]
    }
   ],
   "source": [
    "print(mean(X))"
   ]
  },
  {
   "cell_type": "code",
   "execution_count": 23,
   "id": "4d1c7e59",
   "metadata": {},
   "outputs": [
    {
     "name": "stdout",
     "output_type": "stream",
     "text": [
      "[1] 5.6\n"
     ]
    }
   ],
   "source": [
    "print(mean(Ecks))"
   ]
  },
  {
   "cell_type": "markdown",
   "id": "26c6f708",
   "metadata": {},
   "source": [
    "<span style=\"font-size:1em;\">However, there is no major functional difference between numerical and integer data, provided that you don't need decimals for your numeric data</span>\n",
    "<br>\n",
    "<span style=\"font-size:1em;\">\n",
    "We can demonstrate this with an object named Z, which is similar to Ecks other than being numeric</span>"
   ]
  },
  {
   "cell_type": "code",
   "execution_count": 24,
   "id": "96101ea6",
   "metadata": {},
   "outputs": [
    {
     "name": "stdout",
     "output_type": "stream",
     "text": [
      "[1] 5.6\n"
     ]
    }
   ],
   "source": [
    "\n",
    "Z<- c(3, 8, 4, 6, 7)\n",
    "print(mean(Z))"
   ]
  }
 ],
 "metadata": {
  "kernelspec": {
   "display_name": "R",
   "language": "R",
   "name": "ir"
  },
  "language_info": {
   "codemirror_mode": "r",
   "file_extension": ".r",
   "mimetype": "text/x-r-source",
   "name": "R",
   "pygments_lexer": "r",
   "version": "3.6.1"
  }
 },
 "nbformat": 4,
 "nbformat_minor": 5
}
